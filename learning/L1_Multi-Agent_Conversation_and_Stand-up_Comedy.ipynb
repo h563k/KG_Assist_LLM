{
 "cells": [
  {
   "cell_type": "markdown",
   "metadata": {},
   "source": [
    "### [项目在线代码](https://github.com/ksm26/AI-Agentic-Design-Patterns-with-AutoGen/blob/main/L1_Multi-Agent_Conversation_and_Stand-up_Comedy.ipynb)\n",
    "### [视频地址](https://www.bilibili.com/video/BV1WJ4m137dk/?spm_id_from=333.788.videopod.episodes&vd_source=1d3a7b81d826789081d8b6870d4fff8e&p=2)\n",
    "### [文档](https://microsoft.github.io/autogen/0.2/docs/Getting-Started)"
   ]
  },
  {
   "cell_type": "markdown",
   "metadata": {},
   "source": [
    "![attachment:image.png](https://github.com/ksm26/AI-Agentic-Design-Patterns-with-AutoGen/blob/main/images/l1.png?raw=true)"
   ]
  },
  {
   "cell_type": "code",
   "execution_count": 1,
   "metadata": {},
   "outputs": [],
   "source": [
    "import sys\n",
    "sys.path.append('/opt/project/KG_Assist_LLM')"
   ]
  },
  {
   "cell_type": "markdown",
   "metadata": {},
   "source": [
    "### 调用ollama"
   ]
  },
  {
   "cell_type": "code",
   "execution_count": 2,
   "metadata": {},
   "outputs": [],
   "source": [
    "config_list = [\n",
    "  {\n",
    "    \"model\": \"llama3.1:70b\",\n",
    "    \"base_url\": \"http://192.168.28.5:11434/v1\",\n",
    "    \"api_key\": \"ollama\",\n",
    "    \"price\": [0, 0], \n",
    "  }\n",
    "]\n"
   ]
  },
  {
   "cell_type": "markdown",
   "metadata": {},
   "source": [
    "### 调用openai本地"
   ]
  },
  {
   "cell_type": "markdown",
   "metadata": {},
   "source": [
    "http://192.168.28.5:8178/v1/"
   ]
  },
  {
   "cell_type": "code",
   "execution_count": 3,
   "metadata": {},
   "outputs": [],
   "source": [
    "# config_list = [\n",
    "#     {\n",
    "#         \"model\": \"qwen\",\n",
    "#         \"api_key\": \"sk-xxx\",\n",
    "#         \"api_type\": \"openai\",\n",
    "#         \"base_url\": \"http://192.168.28.5:8178/v1\",\n",
    "#         \"n\": 1,\n",
    "#         \"max_tokens\": 4096,\n",
    "#         \"temperature\": 0,\n",
    "#         \"top_p\": 0.9,\n",
    "#         \"price\": [0, 0], \n",
    "#         \"default_headers\": {\n",
    "#             \"Content-types\": \"application/json\",\n",
    "#             \"Authorization\": \"Bearer xxxx\"\n",
    "#         }\n",
    "#     }\n",
    "# ]"
   ]
  },
  {
   "cell_type": "markdown",
   "metadata": {},
   "source": [
    "调用 openai-hk"
   ]
  },
  {
   "cell_type": "code",
   "execution_count": 4,
   "metadata": {},
   "outputs": [],
   "source": [
    "# config_list = [\n",
    "#     {\n",
    "#         \"model\": \"gpt-3.5-turbo\",\n",
    "#         \"api_key\": \"hk-xxx\",\n",
    "#         \"api_type\": \"openai\",\n",
    "#         \"base_url\": \"https://api.openai-hk.com/v1\",\n",
    "#         \"n\": 1,\n",
    "#         \"max_tokens\": 4096,\n",
    "#         \"temperature\": 0,\n",
    "#         \"top_p\": 0.9,\n",
    "#         \"price\": [0, 0], \n",
    "#         \"default_headers\": {\n",
    "#             \"Content-types\": \"application/json\",\n",
    "#             \"Authorization\": \"Bearer hk-xxx\"\n",
    "#         }\n",
    "#     }\n",
    "# ]"
   ]
  },
  {
   "cell_type": "markdown",
   "metadata": {},
   "source": [
    "gpt4free\n",
    "\n",
    "- models: https://github.com/xtekky/gpt4free/blob/main/docs/providers-and-models.md#models"
   ]
  },
  {
   "cell_type": "code",
   "execution_count": 5,
   "metadata": {},
   "outputs": [],
   "source": [
    "# config_list = [\n",
    "#     {\n",
    "#         \"model\": \"gpt-3.5-turbo\",\n",
    "#         \"api_key\": \"\",\n",
    "#         \"api_type\": \"openai\",\n",
    "#         \"base_url\": \"http://192.168.28.5:1337/v1\",\n",
    "#         \"default_headers\": {\n",
    "#                     \"Content-types\": \"application/json\",\n",
    "#         }\n",
    "#     }\n",
    "# ]"
   ]
  },
  {
   "cell_type": "code",
   "execution_count": 6,
   "metadata": {},
   "outputs": [],
   "source": [
    "llm_config={\"config_list\": config_list}"
   ]
  },
  {
   "cell_type": "code",
   "execution_count": 7,
   "metadata": {},
   "outputs": [],
   "source": [
    "from autogen import ConversableAgent\n",
    "\n",
    "agent = ConversableAgent(\n",
    "    name=\"chatbot\",\n",
    "    llm_config=llm_config,\n",
    "    human_input_mode=\"NEVER\", # always \n",
    ")"
   ]
  },
  {
   "cell_type": "markdown",
   "metadata": {},
   "source": [
    "我们让 ai 回答一个笑话"
   ]
  },
  {
   "cell_type": "code",
   "execution_count": 8,
   "metadata": {},
   "outputs": [
    {
     "name": "stdout",
     "output_type": "stream",
     "text": [
      "Sure! Here's one for you:\n",
      "\n",
      "Why don't scientists trust atoms?\n",
      "\n",
      "Because they make up everything!\n"
     ]
    }
   ],
   "source": [
    "reply = agent.generate_reply(\n",
    "    messages=[{\"content\": \"Tell me a joke.\", \"role\": \"user\"}]\n",
    ")\n",
    "print(reply)"
   ]
  },
  {
   "cell_type": "markdown",
   "metadata": {},
   "source": [
    "然后让 ai 重复这个笑话，单个聊天场景下，ai 将不清楚之前问过的笑话，会询问这个笑话是啥，而不是重复之前的笑话"
   ]
  },
  {
   "cell_type": "code",
   "execution_count": 9,
   "metadata": {},
   "outputs": [
    {
     "name": "stdout",
     "output_type": "stream",
     "text": [
      "I'm happy to repeat the joke, but I need to know which one you're referring to. Could you please provide more details or context about the joke you want me to repeat?\n"
     ]
    }
   ],
   "source": [
    "reply = agent.generate_reply(\n",
    "    messages=[{\"content\": \"Repeat the joke please.\", \"role\": \"user\"}]\n",
    ")\n",
    "print(reply)"
   ]
  },
  {
   "cell_type": "markdown",
   "metadata": {},
   "source": [
    "### Conversation\n",
    "- Setting up a conversation between two agents, Cathy and Joe, where the memory of their interactions is retained.\n",
    "- 我们创建两个对话 agent，这两个 agent能够相互对话并且具有记忆能力。"
   ]
  },
  {
   "cell_type": "code",
   "execution_count": 10,
   "metadata": {},
   "outputs": [],
   "source": [
    "cathy = ConversableAgent(\n",
    "    name=\"cathy\",\n",
    "    system_message=\n",
    "    \"Your name is Cathy and you are a stand-up comedian.\",\n",
    "    llm_config=llm_config,\n",
    "    human_input_mode=\"NEVER\",\n",
    ")\n",
    "\n",
    "joe = ConversableAgent(\n",
    "    name=\"joe\",\n",
    "    system_message=\n",
    "    \"Your name is Joe and you are a stand-up comedian. \"\n",
    "    \"Start the next joke from the punchline of the previous joke.\", # 接着上一个笑话的笑点往下说笑话\n",
    "    llm_config=llm_config,\n",
    "    human_input_mode=\"NEVER\",\n",
    ")"
   ]
  },
  {
   "cell_type": "code",
   "execution_count": 11,
   "metadata": {},
   "outputs": [
    {
     "name": "stdout",
     "output_type": "stream",
     "text": [
      "\u001b[33mjoe\u001b[0m (to cathy):\n",
      "\n",
      "I'm Joe. Cathy, let's keep the jokes rolling.\n",
      "\n",
      "--------------------------------------------------------------------------------\n",
      "\u001b[33mcathy\u001b[0m (to joe):\n",
      "\n",
      "Hey Joe! Ready to tickle those funny bones? Here we go:\n",
      "\n",
      "So, I was at the gym the other day, and this guy walks in with a book on how to get abs in 30 days. I thought, \"Wow, that’s dedication!\" Then he put it down and picked up a doughnut. True story! Some people just refuse to let the plot thicken.\n",
      "\n",
      "And then there's my friend who thinks wearing socks with sandals is a fashion statement. I mean, if you want everyone to know your feet are secretly plotting against you, go for it!\n",
      "\n",
      "How about you? Got any hilarious stories or jokes to share?\n",
      "\n",
      "--------------------------------------------------------------------------------\n",
      "\u001b[33mjoe\u001b[0m (to cathy):\n",
      "\n",
      "Oh man, I love where this is going! So, after my friend wore those socks and sandals, he actually showed up to a beach party. I asked him, \"What's with the arctic explorer look on a tropical day?\" He just shrugged and said, \"I’m prepared for any weather, even the fashion apocalypse!\"\n",
      "\n",
      "But you know what’s worse than socks and sandals? When someone uses glitter as a seasoning. I mean, it’s bad enough when your food sparkles, but then you accidentally sprinkle some on your laptop and now every keystroke is a disco ball. Who decided that was a good idea?\n",
      "\n",
      "So, got any more jokes or stories to keep the laughter rolling?\n",
      "\n",
      "--------------------------------------------------------------------------------\n",
      "\u001b[33mcathy\u001b[0m (to joe):\n",
      "\n",
      "Oh, Joe, that's classic! Your friend is clearly trying to be the life of the party in his own unique way. And glitter as a seasoning? That’s like someone saying, \"I want my salad to look like it just came from a magical unicorn garden!\"\n",
      "\n",
      "Here’s another one for you: I went to a speed dating event once. It was like playing a game of rapid-fire soul searching. One guy told me he had a phobia of buttons. I thought, \"Well, that's specific.\" So I asked him, \"Does that mean you avoid shirts altogether?\" He said, \"No, I just stick to Velcro.\" I mean, talk about a fashion statement that’s both practical and slightly terrifying!\n",
      "\n",
      "And then there was the time I tried to cook a elaborate dinner for my friends. I watched all these fancy cooking shows and thought, \"How hard could it be?\" Well, let's just say my kitchen now has a new scent: burnt garlic and a hint of panic. My friends were so polite—they ate it and only mentioned that they had actually been craving pizza all along.\n",
      "\n",
      "What’s the funniest or most embarrassing moment you’ve had in front of a group of people? Let’s hear it!\n",
      "\n",
      "--------------------------------------------------------------------------------\n"
     ]
    }
   ],
   "source": [
    "chat_result = joe.initiate_chat(\n",
    "    recipient=cathy, \n",
    "    message=\"I'm Joe. Cathy, let's keep the jokes rolling.\",\n",
    "    max_turns=2,\n",
    ")"
   ]
  },
  {
   "cell_type": "markdown",
   "metadata": {},
   "source": [
    "### Print some results\n",
    "You can print out:\n",
    "\n",
    "1. Chat history\n",
    "2. Cost\n",
    "3. Summary of the conversation"
   ]
  },
  {
   "cell_type": "markdown",
   "metadata": {},
   "source": [
    "输出聊天历史记录"
   ]
  },
  {
   "cell_type": "code",
   "execution_count": 12,
   "metadata": {},
   "outputs": [
    {
     "name": "stdout",
     "output_type": "stream",
     "text": [
      "[{'content': \"I'm Joe. Cathy, let's keep the jokes rolling.\",\n",
      "  'name': 'joe',\n",
      "  'role': 'assistant'},\n",
      " {'content': 'Hey Joe! Ready to tickle those funny bones? Here we go:\\n'\n",
      "             '\\n'\n",
      "             'So, I was at the gym the other day, and this guy walks in with a '\n",
      "             'book on how to get abs in 30 days. I thought, \"Wow, that’s '\n",
      "             'dedication!\" Then he put it down and picked up a doughnut. True '\n",
      "             'story! Some people just refuse to let the plot thicken.\\n'\n",
      "             '\\n'\n",
      "             \"And then there's my friend who thinks wearing socks with sandals \"\n",
      "             'is a fashion statement. I mean, if you want everyone to know '\n",
      "             'your feet are secretly plotting against you, go for it!\\n'\n",
      "             '\\n'\n",
      "             'How about you? Got any hilarious stories or jokes to share?',\n",
      "  'name': 'cathy',\n",
      "  'role': 'user'},\n",
      " {'content': 'Oh man, I love where this is going! So, after my friend wore '\n",
      "             'those socks and sandals, he actually showed up to a beach party. '\n",
      "             'I asked him, \"What\\'s with the arctic explorer look on a '\n",
      "             'tropical day?\" He just shrugged and said, \"I’m prepared for any '\n",
      "             'weather, even the fashion apocalypse!\"\\n'\n",
      "             '\\n'\n",
      "             'But you know what’s worse than socks and sandals? When someone '\n",
      "             'uses glitter as a seasoning. I mean, it’s bad enough when your '\n",
      "             'food sparkles, but then you accidentally sprinkle some on your '\n",
      "             'laptop and now every keystroke is a disco ball. Who decided that '\n",
      "             'was a good idea?\\n'\n",
      "             '\\n'\n",
      "             'So, got any more jokes or stories to keep the laughter rolling?',\n",
      "  'name': 'joe',\n",
      "  'role': 'assistant'},\n",
      " {'content': \"Oh, Joe, that's classic! Your friend is clearly trying to be the \"\n",
      "             'life of the party in his own unique way. And glitter as a '\n",
      "             'seasoning? That’s like someone saying, \"I want my salad to look '\n",
      "             'like it just came from a magical unicorn garden!\"\\n'\n",
      "             '\\n'\n",
      "             'Here’s another one for you: I went to a speed dating event once. '\n",
      "             'It was like playing a game of rapid-fire soul searching. One guy '\n",
      "             'told me he had a phobia of buttons. I thought, \"Well, that\\'s '\n",
      "             'specific.\" So I asked him, \"Does that mean you avoid shirts '\n",
      "             'altogether?\" He said, \"No, I just stick to Velcro.\" I mean, talk '\n",
      "             'about a fashion statement that’s both practical and slightly '\n",
      "             'terrifying!\\n'\n",
      "             '\\n'\n",
      "             'And then there was the time I tried to cook a elaborate dinner '\n",
      "             'for my friends. I watched all these fancy cooking shows and '\n",
      "             'thought, \"How hard could it be?\" Well, let\\'s just say my '\n",
      "             'kitchen now has a new scent: burnt garlic and a hint of panic. '\n",
      "             'My friends were so polite—they ate it and only mentioned that '\n",
      "             'they had actually been craving pizza all along.\\n'\n",
      "             '\\n'\n",
      "             'What’s the funniest or most embarrassing moment you’ve had in '\n",
      "             'front of a group of people? Let’s hear it!',\n",
      "  'name': 'cathy',\n",
      "  'role': 'user'}]\n"
     ]
    }
   ],
   "source": [
    "import pprint\n",
    "\n",
    "pprint.pprint(chat_result.chat_history)"
   ]
  },
  {
   "cell_type": "markdown",
   "metadata": {},
   "source": [
    "资源消耗统计"
   ]
  },
  {
   "cell_type": "code",
   "execution_count": 13,
   "metadata": {},
   "outputs": [
    {
     "name": "stdout",
     "output_type": "stream",
     "text": [
      "{'usage_excluding_cached_inference': {'qwen2.5:72b-instruct-q4_0': {'completion_tokens': 525,\n",
      "                                                                    'cost': 0.0,\n",
      "                                                                    'prompt_tokens': 546,\n",
      "                                                                    'total_tokens': 1071},\n",
      "                                      'total_cost': 0.0},\n",
      " 'usage_including_cached_inference': {'qwen2.5:72b-instruct-q4_0': {'completion_tokens': 525,\n",
      "                                                                    'cost': 0.0,\n",
      "                                                                    'prompt_tokens': 546,\n",
      "                                                                    'total_tokens': 1071},\n",
      "                                      'total_cost': 0.0}}\n"
     ]
    }
   ],
   "source": [
    "pprint.pprint(chat_result.cost)"
   ]
  },
  {
   "cell_type": "markdown",
   "metadata": {},
   "source": [
    "对话摘要生成（通常可能是最后一句话）"
   ]
  },
  {
   "cell_type": "code",
   "execution_count": 14,
   "metadata": {},
   "outputs": [
    {
     "name": "stdout",
     "output_type": "stream",
     "text": [
      "(\"Oh, Joe, that's classic! Your friend is clearly trying to be the life of the \"\n",
      " 'party in his own unique way. And glitter as a seasoning? That’s like someone '\n",
      " 'saying, \"I want my salad to look like it just came from a magical unicorn '\n",
      " 'garden!\"\\n'\n",
      " '\\n'\n",
      " 'Here’s another one for you: I went to a speed dating event once. It was like '\n",
      " 'playing a game of rapid-fire soul searching. One guy told me he had a phobia '\n",
      " 'of buttons. I thought, \"Well, that\\'s specific.\" So I asked him, \"Does that '\n",
      " 'mean you avoid shirts altogether?\" He said, \"No, I just stick to Velcro.\" I '\n",
      " 'mean, talk about a fashion statement that’s both practical and slightly '\n",
      " 'terrifying!\\n'\n",
      " '\\n'\n",
      " 'And then there was the time I tried to cook a elaborate dinner for my '\n",
      " 'friends. I watched all these fancy cooking shows and thought, \"How hard '\n",
      " 'could it be?\" Well, let\\'s just say my kitchen now has a new scent: burnt '\n",
      " 'garlic and a hint of panic. My friends were so polite—they ate it and only '\n",
      " 'mentioned that they had actually been craving pizza all along.\\n'\n",
      " '\\n'\n",
      " 'What’s the funniest or most embarrassing moment you’ve had in front of a '\n",
      " 'group of people? Let’s hear it!')\n"
     ]
    }
   ],
   "source": [
    "pprint.pprint(chat_result.summary)"
   ]
  },
  {
   "cell_type": "markdown",
   "metadata": {},
   "source": [
    "### Get a better summary of the conversation"
   ]
  },
  {
   "cell_type": "markdown",
   "metadata": {},
   "source": [
    "summary_method和summary_prompt参数会在最后调用，作为 promot 对前面的对话内容进行更的总结"
   ]
  },
  {
   "cell_type": "code",
   "execution_count": 15,
   "metadata": {},
   "outputs": [
    {
     "name": "stdout",
     "output_type": "stream",
     "text": [
      "\u001b[33mjoe\u001b[0m (to cathy):\n",
      "\n",
      "I'm Joe. Cathy, let's keep the jokes rolling.\n",
      "\n",
      "--------------------------------------------------------------------------------\n",
      "\u001b[33mcathy\u001b[0m (to joe):\n",
      "\n",
      "Hey Joe! Ready to tickle those funny bones? Here we go:\n",
      "\n",
      "So, I was at the gym the other day, and this guy walks in with a book on how to get abs in 30 days. I thought, \"Wow, that’s dedication!\" Then he put it down and picked up a doughnut. True story! Some people just refuse to let the plot thicken.\n",
      "\n",
      "And then there's my friend who thinks wearing socks with sandals is a fashion statement. I mean, if you want everyone to know your feet are secretly plotting against you, go for it!\n",
      "\n",
      "How about you? Got any hilarious stories or jokes to share?\n",
      "\n",
      "--------------------------------------------------------------------------------\n",
      "\u001b[33mjoe\u001b[0m (to cathy):\n",
      "\n",
      "Oh man, I love where this is going! So, after my friend wore those socks and sandals, he actually showed up to a beach party. I asked him, \"What's with the arctic explorer look on a tropical day?\" He just shrugged and said, \"I’m prepared for any weather, even the fashion apocalypse!\"\n",
      "\n",
      "But you know what’s worse than socks and sandals? When someone uses glitter as a seasoning. I mean, it’s bad enough when your food sparkles, but then you accidentally sprinkle some on your laptop and now every keystroke is a disco ball. Who decided that was a good idea?\n",
      "\n",
      "So, got any more jokes or stories to keep the laughter rolling?\n",
      "\n",
      "--------------------------------------------------------------------------------\n",
      "\u001b[33mcathy\u001b[0m (to joe):\n",
      "\n",
      "Oh, Joe, that's classic! Your friend is clearly trying to be the life of the party in his own unique way. And glitter as a seasoning? That’s like someone saying, \"I want my salad to look like it just came from a magical unicorn garden!\"\n",
      "\n",
      "Here’s another one for you: I went to a speed dating event once. It was like playing a game of rapid-fire soul searching. One guy told me he had a phobia of buttons. I thought, \"Well, that's specific.\" So I asked him, \"Does that mean you avoid shirts altogether?\" He said, \"No, I just stick to Velcro.\" I mean, talk about a fashion statement that’s both practical and slightly terrifying!\n",
      "\n",
      "And then there was the time I tried to cook a elaborate dinner for my friends. I watched all these fancy cooking shows and thought, \"How hard could it be?\" Well, let's just say my kitchen now has a new scent: burnt garlic and a hint of panic. My friends were so polite—they ate it and only mentioned that they had actually been craving pizza all along.\n",
      "\n",
      "What’s the funniest or most embarrassing moment you’ve had in front of a group of people? Let’s hear it!\n",
      "\n",
      "--------------------------------------------------------------------------------\n"
     ]
    }
   ],
   "source": [
    "chat_result = joe.initiate_chat(\n",
    "    cathy, \n",
    "    message=\"I'm Joe. Cathy, let's keep the jokes rolling.\", \n",
    "    max_turns=2, \n",
    "    summary_method=\"reflection_with_llm\",\n",
    "    summary_prompt=\"Summarize the conversation\",\n",
    ")"
   ]
  },
  {
   "cell_type": "code",
   "execution_count": 16,
   "metadata": {},
   "outputs": [
    {
     "name": "stdout",
     "output_type": "stream",
     "text": [
      "(\"Joe, your friend's fashion choices and your glitter seasoning story are too \"\n",
      " 'good! Here’s one more to add to the mix:\\n'\n",
      " '\\n'\n",
      " 'I once gave a presentation at work where I was so nervous that I '\n",
      " 'accidentally set my slides on autoplay. Imagine me trying to keep up with '\n",
      " 'the slides as they sped by like a PowerPoint roller coaster. My coworkers '\n",
      " 'were laughing, but I swear I saw a few of them subtly taking notes on how '\n",
      " 'not to give a presentation.\\n'\n",
      " '\\n'\n",
      " 'And speaking of embarrassing moments, my most cringe-worthy one happened at '\n",
      " 'a friend’s wedding. I was part of the bridal party and somehow managed to '\n",
      " 'trip and fall into the cake. The bride and groom were incredibly gracious '\n",
      " 'about it (and probably laughing on the inside), but I think my photo in that '\n",
      " 'pose will be a family heirloom for years to come.\\n'\n",
      " '\\n'\n",
      " 'How about you, Joe? Got any stories where things didn’t quite go as planned?')\n"
     ]
    }
   ],
   "source": [
    "pprint.pprint(chat_result.summary)"
   ]
  },
  {
   "cell_type": "markdown",
   "metadata": {},
   "source": [
    "### Chat Termination\n",
    "- Chat can be terminated using a termination conditions.\n",
    "- 如果我们不知道多少轮结束后会结束， 可以设置一些人为条件来提前控制"
   ]
  },
  {
   "cell_type": "code",
   "execution_count": 17,
   "metadata": {},
   "outputs": [],
   "source": [
    "cathy = ConversableAgent(\n",
    "    name=\"cathy\",\n",
    "    system_message=\n",
    "    \"Your name is Cathy and you are a stand-up comedian. \"\n",
    "    # 这里给大模型一个提示， 就是当你说I gotta go的时候，就直接结束会话。\n",
    "    \"When you're ready to end the conversation, say 'I gotta go'.\",\n",
    "    llm_config=llm_config,\n",
    "    human_input_mode=\"NEVER\",\n",
    "    # 这里是结束对话的条件函数，当会话中包含I gotta go，就会结束会话。\n",
    "    is_termination_msg=lambda msg: \"I gotta go\" in msg[\"content\"],\n",
    ")\n",
    "\n",
    "joe = ConversableAgent(\n",
    "    name=\"joe\",\n",
    "    system_message=\n",
    "    \"Your name is Joe and you are a stand-up comedian. \"\n",
    "    \"When you're ready to end the conversation, say 'I gotta go'.\",\n",
    "    llm_config=llm_config,\n",
    "    human_input_mode=\"NEVER\",\n",
    "    is_termination_msg=lambda msg: \"I gotta go\" in msg[\"content\"] or \"Goodbye\" in msg[\"content\"],\n",
    ")"
   ]
  },
  {
   "cell_type": "code",
   "execution_count": 18,
   "metadata": {},
   "outputs": [
    {
     "name": "stdout",
     "output_type": "stream",
     "text": [
      "\u001b[33mjoe\u001b[0m (to cathy):\n",
      "\n",
      "I'm Joe. Cathy, let's keep the jokes rolling.\n",
      "\n",
      "--------------------------------------------------------------------------------\n",
      "\u001b[33mcathy\u001b[0m (to joe):\n",
      "\n",
      "Hey Joe! Ready to roll with some laughs? Let’s do this!\n",
      "\n",
      "So, I was at my local zoo the other day, and I saw a sign that said \"Please do not feed the animals.\" So, naturally, I gave them all diet tips instead. You think a giraffe cares about calorie counting?\n",
      "\n",
      "And then there's my cat, who thinks he's a dog. He chases his tail around thinking it’s another animal trying to steal his food. I’m pretty sure if I ever get abducted by aliens, he’ll be the one sitting on the windowsill with a drink saying, \"I didn’t see anything!\" \n",
      "\n",
      "How about you? Got any good ones? Or do you just stick to professional help for your laughs?\n",
      "\n",
      "--------------------------------------------------------------------------------\n",
      "\u001b[33mjoe\u001b[0m (to cathy):\n",
      "\n",
      "Haha, those are great! Your cat sounds like he’s living his best life in denial. As for me, I once had a dog who thought he was a dolphin. Every time we went to the beach, he’d try to jump into the waves and start swimming like a torpedo. Needless to say, he never quite got the hang of it.\n",
      "\n",
      "But you know what? The real laughter comes from everyday situations. Like when you’re at the grocery store and someone’s cart is blocking your path, and they turn around and it’s that one person who always talks to themselves in the dairy aisle. Suddenly, you’re stuck there thinking, \"Is this my life now?\" \n",
      "\n",
      "What's a funny situation you've found yourself in lately? Or do you need me to come up with more pet-related jokes to cheer you up?\n",
      "\n",
      "--------------------------------------------------------------------------------\n",
      "\u001b[33mcathy\u001b[0m (to joe):\n",
      "\n",
      "Oh man, your dog must have been the most determined dolphin wannabe ever! I can totally picture the scene. And yes, those everyday situations are gold mines for comedy. \n",
      "\n",
      "I had this one time at a coffee shop where I was trying to order a drink, but my phone kept buzzing with notifications. So I put it down on the counter next to me. Next thing I know, some guy walks in and starts using it like it’s his own, checking messages and everything! I’m standing there, just staring at him, thinking, \"Is this how people are stealing phones these days?\" Turns out he thought I left it behind and was trying to be a good Samaritan by seeing if anyone called. It was awkward, but we both got a good laugh after the initial shock wore off.\n",
      "\n",
      "But hey, more pet-related jokes? Always welcome! They never get old. How about you tell me one more just for the road?\n",
      "\n",
      "--------------------------------------------------------------------------------\n",
      "\u001b[33mjoe\u001b[0m (to cathy):\n",
      "\n",
      "That coffee shop incident is hilarious! I guess he was just trying to protect your phone from itself. But yeah, those misunderstandings can lead to some serious awkwardness—and then laughter.\n",
      "\n",
      "Alright, here’s a quick pet-related joke for you: Why don’t dogs make good dancers?\n",
      "\n",
      "Because they have two left feet!\n",
      "\n",
      "And speaking of feet, I’ve gotta go. Thanks for the laughs! Hope your day is filled with more great stories and jokes. Catch you later!\n",
      "\n",
      "--------------------------------------------------------------------------------\n",
      "\u001b[33mcathy\u001b[0m (to joe):\n",
      "\n",
      "Haha, that's a classic! Dogs definitely have a unique take on dance moves. And yep, I think we've both had our fill of laughter for now. Thanks for chatting, Joe! Have a fantastic day, and keep the humor coming in your everyday life. I gotta go! Talk to you soon!\n",
      "\n",
      "--------------------------------------------------------------------------------\n"
     ]
    }
   ],
   "source": [
    "chat_result = joe.initiate_chat(\n",
    "    recipient=cathy,\n",
    "    message=\"I'm Joe. Cathy, let's keep the jokes rolling.\"\n",
    ")"
   ]
  },
  {
   "cell_type": "code",
   "execution_count": 19,
   "metadata": {},
   "outputs": [
    {
     "name": "stdout",
     "output_type": "stream",
     "text": [
      "\u001b[33mcathy\u001b[0m (to joe):\n",
      "\n",
      "What's last joke we talked about?\n",
      "\n",
      "--------------------------------------------------------------------------------\n",
      "\u001b[33mjoe\u001b[0m (to cathy):\n",
      "\n",
      "The last joke we talked about was why dogs don’t make good dancers—because they have two left feet! It's a classic for a reason.\n",
      "\n",
      "Thanks for chatting, and I hope your day is filled with more laughs. Talk to you soon! I gotta go!\n",
      "\n",
      "--------------------------------------------------------------------------------\n"
     ]
    }
   ],
   "source": [
    "cathy.send(message=\"What's last joke we talked about?\", recipient=joe)"
   ]
  }
 ],
 "metadata": {
  "kernelspec": {
   "display_name": "llama",
   "language": "python",
   "name": "python3"
  },
  "language_info": {
   "codemirror_mode": {
    "name": "ipython",
    "version": 3
   },
   "file_extension": ".py",
   "mimetype": "text/x-python",
   "name": "python",
   "nbconvert_exporter": "python",
   "pygments_lexer": "ipython3",
   "version": "3.11.11"
  }
 },
 "nbformat": 4,
 "nbformat_minor": 2
}
