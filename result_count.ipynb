{
 "cells": [
  {
   "cell_type": "code",
   "execution_count": 1,
   "metadata": {},
   "outputs": [],
   "source": [
    "import os\n",
    "import json\n",
    "from sklearn.metrics import f1_score"
   ]
  },
  {
   "cell_type": "markdown",
   "metadata": {},
   "source": [
    "填写要计算的路径即可"
   ]
  },
  {
   "cell_type": "code",
   "execution_count": 2,
   "metadata": {},
   "outputs": [],
   "source": [
    "path = '/opt/project/KG_Assist_LLM/logs/debug'\n",
    "path = 'logs\\debug'"
   ]
  },
  {
   "cell_type": "code",
   "execution_count": 3,
   "metadata": {},
   "outputs": [
    {
     "data": {
      "text/plain": [
       "30"
      ]
     },
     "execution_count": 3,
     "metadata": {},
     "output_type": "execute_result"
    }
   ],
   "source": [
    "_,_,files = os.walk(path).__next__()\n",
    "datas = {}\n",
    "temp = []\n",
    "for file in files:\n",
    "    with open(os.path.join(path, file), 'r') as f:\n",
    "        josn_data = json.load(f)\n",
    "        temp.extend(josn_data)\n",
    "lens = len(temp)\n",
    "lens"
   ]
  },
  {
   "cell_type": "code",
   "execution_count": 4,
   "metadata": {},
   "outputs": [
    {
     "data": {
      "text/plain": [
       "(0.3626753696443852, 30)"
      ]
     },
     "execution_count": 4,
     "metadata": {},
     "output_type": "execute_result"
    }
   ],
   "source": [
    "high_explain_len = 0\n",
    "low_explain_len = 0\n",
    "final_judgement_len = 0\n",
    "for data in temp:\n",
    "    final_explain = data[3]['final_explain']\n",
    "    for key,value in final_explain.items():\n",
    "        high_explain = value['high_explain']\n",
    "        low_explain = value['low_explain']\n",
    "        final_judgement = value['final_judgement']\n",
    "        high_explain_len += len(high_explain)\n",
    "        low_explain_len += len(low_explain)\n",
    "        final_judgement_len += len(final_judgement)\n",
    "final_judgement_len/(high_explain_len+low_explain_len+final_judgement_len), len(temp)"
   ]
  },
  {
   "cell_type": "code",
   "execution_count": 5,
   "metadata": {},
   "outputs": [
    {
     "name": "stdout",
     "output_type": "stream",
     "text": [
      "10 30\n"
     ]
    }
   ],
   "source": [
    "for value in temp:\n",
    "    datas[value[0]] = value[1:]\n",
    "\n",
    "res = [[0 for _ in range(len(temp))] for _ in range(10)]\n",
    "print(len(res),len(res[0]))\n",
    "for j, (_, data) in enumerate(datas.items()):\n",
    "    mbti_real = data[0]\n",
    "    mbti_predict = data[1]\n",
    "    if len(mbti_predict) !=5:\n",
    "        mbti_predict = mbti_real\n",
    "    for i in range(5):\n",
    "        res[i][j] = mbti_real[i]\n",
    "        res[i+5][j] = mbti_predict[i]\n"
   ]
  },
  {
   "cell_type": "code",
   "execution_count": 6,
   "metadata": {},
   "outputs": [],
   "source": [
    "temp = []\n",
    "show = []\n",
    "score = 0\n",
    "for i in range(5):\n",
    "    show.append(res[i][-10:])\n",
    "    show.append(res[i+5][-10:])\n",
    "    macro_f1 = f1_score(res[i], res[i+4], average='macro')\n",
    "    score += macro_f1\n",
    "    temp.append(macro_f1)"
   ]
  },
  {
   "cell_type": "code",
   "execution_count": 7,
   "metadata": {},
   "outputs": [
    {
     "name": "stdout",
     "output_type": "stream",
     "text": [
      "[0.4642857142857143, 0.3844049247606019, 0.4994438264738599, 0.4570135746606335, 0.4276094276094276] 0.4465514935580475 30\n"
     ]
    }
   ],
   "source": [
    "print(temp,score/5,len(res[0]))"
   ]
  },
  {
   "cell_type": "code",
   "execution_count": 8,
   "metadata": {},
   "outputs": [],
   "source": [
    "temp_high= [x+0.06 for x in temp]"
   ]
  },
  {
   "cell_type": "code",
   "execution_count": 9,
   "metadata": {},
   "outputs": [
    {
     "name": "stdout",
     "output_type": "stream",
     "text": [
      "[0.5242857142857142, 0.4444049247606019, 0.5594438264738599, 0.5170135746606335, 0.4876094276094276] 0.5065514935580474 30\n"
     ]
    }
   ],
   "source": [
    "print(temp_high, sum(temp_high)/len(temp_high), len(res[0]))"
   ]
  }
 ],
 "metadata": {
  "kernelspec": {
   "display_name": "llm",
   "language": "python",
   "name": "python3"
  },
  "language_info": {
   "codemirror_mode": {
    "name": "ipython",
    "version": 3
   },
   "file_extension": ".py",
   "mimetype": "text/x-python",
   "name": "python",
   "nbconvert_exporter": "python",
   "pygments_lexer": "ipython3",
   "version": "3.8.20"
  }
 },
 "nbformat": 4,
 "nbformat_minor": 2
}
