{
 "cells": [
  {
   "cell_type": "code",
   "execution_count": 3,
   "metadata": {},
   "outputs": [],
   "source": [
    "import os\n",
    "import json\n",
    "from sklearn.metrics import f1_score"
   ]
  },
  {
   "cell_type": "markdown",
   "metadata": {},
   "source": [
    "填写要计算的路径即可"
   ]
  },
  {
   "cell_type": "code",
   "execution_count": 6,
   "metadata": {},
   "outputs": [],
   "source": [
    "path = '/opt/project/KG_Assist_LLM/logs/debug'\n",
    "path = 'logs\\debug'"
   ]
  },
  {
   "cell_type": "code",
   "execution_count": 7,
   "metadata": {},
   "outputs": [
    {
     "data": {
      "text/plain": [
       "1"
      ]
     },
     "execution_count": 7,
     "metadata": {},
     "output_type": "execute_result"
    }
   ],
   "source": [
    "_,_,files = os.walk(path).__next__()\n",
    "datas = {}\n",
    "temp = []\n",
    "for file in files:\n",
    "    with open(os.path.join(path, file), 'r') as f:\n",
    "        josn_data = json.load(f)\n",
    "        temp.extend(josn_data)\n",
    "lens = len(temp)\n",
    "lens"
   ]
  },
  {
   "cell_type": "code",
   "execution_count": 10,
   "metadata": {},
   "outputs": [],
   "source": [
    "for value in temp:\n",
    "    datas[value[0]] = value[1:]\n",
    "res = [[0 for _ in range(lens)] for _ in range(10)]\n",
    "for j, (_, data) in enumerate(datas.items()):\n",
    "    mbti_real = data[0]\n",
    "    mbti_predict = data[1]\n",
    "    for i in range(5):\n",
    "        res[i][j] = mbti_real[i]\n",
    "        res[i+5][j] = mbti_predict[i]\n"
   ]
  },
  {
   "cell_type": "code",
   "execution_count": 11,
   "metadata": {},
   "outputs": [],
   "source": [
    "temp = []\n",
    "show = []\n",
    "score = 0\n",
    "for i in range(5):\n",
    "    show.append(res[i][-10:])\n",
    "    show.append(res[i+5][-10:])\n",
    "    macro_f1 = f1_score(res[i], res[i+4], average='macro')\n",
    "    score += macro_f1\n",
    "    temp.append(macro_f1)"
   ]
  },
  {
   "cell_type": "code",
   "execution_count": 12,
   "metadata": {},
   "outputs": [
    {
     "name": "stdout",
     "output_type": "stream",
     "text": [
      "[0.0, 1.0, 0.0, 0.0, 0.0] 0.2 1\n"
     ]
    }
   ],
   "source": [
    "print(temp,score/5,len(res[0]))"
   ]
  }
 ],
 "metadata": {
  "kernelspec": {
   "display_name": "llm",
   "language": "python",
   "name": "python3"
  },
  "language_info": {
   "codemirror_mode": {
    "name": "ipython",
    "version": 3
   },
   "file_extension": ".py",
   "mimetype": "text/x-python",
   "name": "python",
   "nbconvert_exporter": "python",
   "pygments_lexer": "ipython3",
   "version": "3.8.20"
  }
 },
 "nbformat": 4,
 "nbformat_minor": 2
}
